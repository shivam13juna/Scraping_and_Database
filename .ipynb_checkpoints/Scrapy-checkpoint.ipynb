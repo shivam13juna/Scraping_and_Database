{
 "cells": [
  {
   "cell_type": "markdown",
   "metadata": {},
   "source": [
    "# Starting with Scrapy "
   ]
  },
  {
   "cell_type": "markdown",
   "metadata": {},
   "source": [
    "BeautifulSoup and lxml are libraries for parsing HTML and XML. Scrapy is an application framework for writing web spiders that crawl web sites and extract data from them."
   ]
  },
  {
   "cell_type": "code",
   "execution_count": 108,
   "metadata": {},
   "outputs": [],
   "source": [
    "import scrapy\n",
    "import requests\n",
    "from scrapy.http import TextResponse\n",
    "import urllib.request, urllib.parse, urllib.error\n",
    "import numpy as np\n"
   ]
  },
  {
   "cell_type": "markdown",
   "metadata": {},
   "source": [
    "### XPath is a language\n",
    "\n",
    "\n",
    "\n",
    "<h5>How to use commands in console</h5>\n",
    "<img src=\"x_console.png\" alt=\"Drawing\" style=\"width: 400px;\"/>\n",
    "\n",
    "\n",
    "* Using //p will select all the p elements and //a for all the links\n",
    "* To find all the links under div we'll use $x('//div//a')\n",
    "* You can also select just the text by using the text()\n",
    "* You can also select just the text by using the text()\n",
    "* There are tens of XPath functions like not(), contains(), and startswith() that you can find in the online documentation (http://www.w3schools.com/xsl/xpath_functions.asp),"
   ]
  },
  {
   "cell_type": "code",
   "execution_count": 6,
   "metadata": {},
   "outputs": [],
   "source": [
    "class QuotesSpider(scrapy.Spider):\n",
    "    name = \"grand\"\n",
    "\n",
    "    def start_requests(self):\n",
    "        urls = [\n",
    "            'http://quotes.toscrape.com/page/1/',\n",
    "            'http://quotes.toscrape.com/page/2/',\n",
    "        ]\n",
    "        for url in urls:\n",
    "            yield scrapy.Request(url=url, callback=self.parse)\n",
    "            # The callback of a request is a function that will be called when the response of that request is downloaded.\n",
    "            # The callback function will be called with the downloaded Response object as its first argument. Example: def parse_page1(self, response): return scrapy.\n",
    "\n",
    "    def parse(self, response):\n",
    "        page = response.url.split(\"/\")[-2]\n",
    "        filename = 'quotes-%s.html' % page\n",
    "        with open(filename, 'wb') as f:\n",
    "            f.write(response.body)\n",
    "        self.log('Saved file %s' % filename)"
   ]
  },
  {
   "cell_type": "code",
   "execution_count": 125,
   "metadata": {},
   "outputs": [],
   "source": [
    "conv = '''accept: text/html,application/xhtml+xml,application/xml;q=0.9,image/webp,image/apng,*/*;q=0.8,application/signed-exchange;v=b3;q=0.9\n",
    "accept-encoding: gzip, deflate, br\n",
    "accept-language: en-US,en;q=0.9\n",
    "cache-control: max-age=0\n",
    "cookie: prov=6ee1b1c0-a975-57c1-b806-d6f02acdc078; _ga=GA1.2.1770530859.1579667732; __qca=P0-709205387-1579667731930; __gads=ID=7abeba23853bfab5:T=1579667732:S=ALNI_MZQpLsyZugJqQyXRBUJPOkgNjsDbw; sgt=id=57291405-92ae-4989-a741-f989cf2c6903; _gid=GA1.2.1065622312.1595226703; arp_scroll_position=136; acct=t=JE1j0YL6mlLl7%2bJDAZ0zaTJQ%2bUidPKXE&s=xcKiH08vYJFwXKLlol2HcBhRPB70gUZR\n",
    "dnt: 1\n",
    "referer: https://www.google.com/\n",
    "sec-fetch-dest: document\n",
    "sec-fetch-mode: navigate\n",
    "sec-fetch-site: cross-site\n",
    "sec-fetch-user: ?1\n",
    "upgrade-insecure-requests: 1\n",
    "user-agent: Mozilla/5.0 (Macintosh; Intel Mac OS X 10_15_5) AppleWebKit/537.36 (KHTML, like Gecko) Chrome/84.0.4147.89 Safari/537.36'''\n",
    "\n",
    "conv = conv.split('\\n')\n",
    "\n",
    "headers = dict()\n",
    "\n",
    "for i in range(len(conv)):\n",
    "    headers[conv[i].split(': ')[0]] = conv[i].split(': ')[1]\n"
   ]
  },
  {
   "cell_type": "code",
   "execution_count": 144,
   "metadata": {},
   "outputs": [
    {
     "data": {
      "text/plain": [
       "{'accept': 'text/html,application/xhtml+xml,application/xml;q=0.9,image/webp,image/apng,*/*;q=0.8,application/signed-exchange;v=b3;q=0.9',\n",
       " 'accept-encoding': 'gzip, deflate, br',\n",
       " 'accept-language': 'en-US,en;q=0.9',\n",
       " 'cache-control': 'max-age=0',\n",
       " 'cookie': 'prov=6ee1b1c0-a975-57c1-b806-d6f02acdc078; _ga=GA1.2.1770530859.1579667732; __qca=P0-709205387-1579667731930; __gads=ID=7abeba23853bfab5:T=1579667732:S=ALNI_MZQpLsyZugJqQyXRBUJPOkgNjsDbw; sgt=id=57291405-92ae-4989-a741-f989cf2c6903; _gid=GA1.2.1065622312.1595226703; arp_scroll_position=136; acct=t=JE1j0YL6mlLl7%2bJDAZ0zaTJQ%2bUidPKXE&s=xcKiH08vYJFwXKLlol2HcBhRPB70gUZR',\n",
       " 'dnt': '1',\n",
       " 'referer': 'https://www.google.com/',\n",
       " 'sec-fetch-dest': 'document',\n",
       " 'sec-fetch-mode': 'navigate',\n",
       " 'sec-fetch-site': 'cross-site',\n",
       " 'sec-fetch-user': '?1',\n",
       " 'upgrade-insecure-requests': '1',\n",
       " 'user-agent': 'Mozilla/5.0 (Macintosh; Intel Mac OS X 10_15_5) AppleWebKit/537.36 (KHTML, like Gecko) Chrome/84.0.4147.89 Safari/537.36'}"
      ]
     },
     "execution_count": 144,
     "metadata": {},
     "output_type": "execute_result"
    }
   ],
   "source": [
    "headers"
   ]
  },
  {
   "cell_type": "code",
   "execution_count": 151,
   "metadata": {},
   "outputs": [],
   "source": [
    "res = requests.get('https://www.magicbricks.com/propertyDetails/2-BHK-1030-Sq-ft-Multistorey-Apartment-FOR-Sale-Thanisandra-Main-Road-in-Bangalore&id=4d423231313036303433?sem=Y', headers=headers)\n",
    "\n",
    "# res = requests.get('https://madhubanmurli.org/#')#, headers = headers)\n",
    "response = TextResponse(res.url, body=res.text, encoding='utf-8')"
   ]
  },
  {
   "cell_type": "code",
   "execution_count": 181,
   "metadata": {},
   "outputs": [
    {
     "data": {
      "text/plain": [
       "['<a href=\"https://www.magicbricks.com//sai-kalyan-builders-&amp;-developers-pvt.-ltd.-buid-4d423737333231\" target=\"_blank\">\\nSai Kalyan Builders &amp; Developers Pvt. Ltd.\\n</a>']"
      ]
     },
     "execution_count": 181,
     "metadata": {},
     "output_type": "execute_result"
    }
   ],
   "source": [
    "response.xpath('//*[@id=\"thirdFoldDisplay\"]/div[1]/div[2]/span/a').extract()\n",
    "# response.xpath('//*[@target=\"_blank\"][4]').extract()"
   ]
  },
  {
   "cell_type": "code",
   "execution_count": 213,
   "metadata": {},
   "outputs": [
    {
     "name": "stdout",
     "output_type": "stream",
     "text": [
      "1 ['\\nThanisandra Main Road, Bangalore\\n', '\\nSai Kalyan Builders & Developers Pvt. Ltd.\\n', ' Ultima Smart Homes ', '\\n', '\\n', '\\n', ' ', '\\n', '\\n', '\\n', '\\n', '\\n', '\\n', 'Ultima Smart Homes', '\\nSai Kalyan Builders & Developers Pvt. Ltd.\\n', 'Download\\nBrochure', 'View All', 'View All', 'Sitemap', 'Terms & Conditions', 'Privacy Policy', 'Blog', 'Careers', 'Testimonials', 'Help Center', 'Sales Enquiry']\n",
      "2 []\n",
      "3 []\n",
      "4 []\n",
      "5 []\n",
      "6 []\n",
      "7 []\n",
      "8 []\n",
      "9 []\n",
      "10 []\n",
      "11 []\n",
      "12 []\n",
      "13 []\n",
      "14 []\n",
      "15 []\n",
      "16 []\n",
      "17 []\n",
      "18 []\n",
      "19 []\n"
     ]
    }
   ],
   "source": [
    "# response.xpath('//*[@id=\"thirdFoldDisplay\"]/div[1]/div[2]/span/a').extract()\n",
    "\n",
    "for i in range(1, 20):\n",
    "    print(i, response.xpath('//*[@target=\"_blank\"]['+str(i) + ']/text()').extract())"
   ]
  },
  {
   "cell_type": "code",
   "execution_count": 199,
   "metadata": {},
   "outputs": [
    {
     "data": {
      "text/plain": [
       "'<a href=\"https://www.magicbricks.com//sai-kalyan-builders-&amp;-developers-pvt.-ltd.-buid-4d423737333231\" target=\"_blank\">\\nSai Kalyan Builders &amp; Developers Pvt. Ltd.\\n</a>'"
      ]
     },
     "execution_count": 199,
     "metadata": {},
     "output_type": "execute_result"
    }
   ],
   "source": [
    "# response.xpath('//*[@id=\"thirdFoldDisplay\"]/div[1]/div[2]/span/a//text()').extract()\n",
    "response.xpath('//*[@target=\"_blank\"][1]').extract()[2]"
   ]
  },
  {
   "cell_type": "markdown",
   "metadata": {},
   "source": [
    "# Note visual tags can't be used with attribute tags\n",
    "XPath is practically used for locating XML nodes.\n",
    "\n",
    "General Syntax:\n",
    "\n",
    "xpath=//tag[@attribute='value']\n",
    "\n",
    "// : Select current node.\n",
    "\n",
    "tag: Tagname of the particular node. Also, \"*\" is for searching any tag in the xml structure\n",
    "\n",
    "@: Select attribute.\n",
    "\n",
    "attribute: Attribute name of the node.\n",
    "\n",
    "value: Value of the attribute."
   ]
  },
  {
   "cell_type": "code",
   "execution_count": 239,
   "metadata": {},
   "outputs": [
    {
     "data": {
      "text/plain": [
       "[<Selector xpath='//*[@id=\"thirdFoldDisplay\"]/div[1]/div[2]/span/a//text()' data='\\nSai Kalyan Builders & Developers Pvt...'>]"
      ]
     },
     "execution_count": 239,
     "metadata": {},
     "output_type": "execute_result"
    }
   ],
   "source": [
    "response.xpath('//*[@id=\"thirdFoldDisplay\"]/div[1]/div[2]/span/a//text()')\n",
    "\n",
    "# That's how you nest elements for selecting nth instance of mth entity and combine regular expression\n",
    "# ' '.join(response.xpath('(//*[@id=\"thirdFoldDisplay\"]//*[@target=\"_blank\"])//text()').re('[\\.a-zA-Z]+'))"
   ]
  },
  {
   "cell_type": "code",
   "execution_count": 235,
   "metadata": {},
   "outputs": [
    {
     "data": {
      "text/plain": [
       "{'accept': 'text/html,application/xhtml+xml,application/xml;q=0.9,image/webp,image/apng,*/*;q=0.8,application/signed-exchange;v=b3;q=0.9',\n",
       " 'accept-encoding': 'gzip, deflate, br',\n",
       " 'accept-language': 'en-US,en;q=0.9',\n",
       " 'cache-control': 'max-age=0',\n",
       " 'cookie': 'prov=6ee1b1c0-a975-57c1-b806-d6f02acdc078; _ga=GA1.2.1770530859.1579667732; __qca=P0-709205387-1579667731930; __gads=ID=7abeba23853bfab5:T=1579667732:S=ALNI_MZQpLsyZugJqQyXRBUJPOkgNjsDbw; sgt=id=57291405-92ae-4989-a741-f989cf2c6903; _gid=GA1.2.1065622312.1595226703; arp_scroll_position=136; acct=t=JE1j0YL6mlLl7%2bJDAZ0zaTJQ%2bUidPKXE&s=xcKiH08vYJFwXKLlol2HcBhRPB70gUZR',\n",
       " 'dnt': '1',\n",
       " 'referer': 'https://www.google.com/',\n",
       " 'sec-fetch-dest': 'document',\n",
       " 'sec-fetch-mode': 'navigate',\n",
       " 'sec-fetch-site': 'cross-site',\n",
       " 'sec-fetch-user': '?1',\n",
       " 'upgrade-insecure-requests': '1',\n",
       " 'user-agent': 'Mozilla/5.0 (Macintosh; Intel Mac OS X 10_15_5) AppleWebKit/537.36 (KHTML, like Gecko) Chrome/84.0.4147.89 Safari/537.36'}"
      ]
     },
     "execution_count": 235,
     "metadata": {},
     "output_type": "execute_result"
    }
   ],
   "source": [
    "headers"
   ]
  },
  {
   "cell_type": "markdown",
   "metadata": {},
   "source": [
    "You make a new project by typing \"scrappy startproject properties\""
   ]
  }
 ],
 "metadata": {
  "kernelspec": {
   "display_name": "Python 3",
   "language": "python",
   "name": "python3"
  },
  "language_info": {
   "codemirror_mode": {
    "name": "ipython",
    "version": 3
   },
   "file_extension": ".py",
   "mimetype": "text/x-python",
   "name": "python",
   "nbconvert_exporter": "python",
   "pygments_lexer": "ipython3",
   "version": "3.7.7"
  }
 },
 "nbformat": 4,
 "nbformat_minor": 4
}
