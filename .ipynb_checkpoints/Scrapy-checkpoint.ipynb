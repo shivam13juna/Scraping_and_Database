{
 "cells": [
  {
   "cell_type": "markdown",
   "metadata": {},
   "source": [
    "# Starting with Scrapy "
   ]
  },
  {
   "cell_type": "markdown",
   "metadata": {},
   "source": [
    "BeautifulSoup and lxml are libraries for parsing HTML and XML. Scrapy is an application framework for writing web spiders that crawl web sites and extract data from them."
   ]
  },
  {
   "cell_type": "code",
   "execution_count": 118,
   "metadata": {},
   "outputs": [],
   "source": [
    "import scrapy\n",
    "import requests\n",
    "from scrapy.http import TextResponse\n",
    "from scrapy.loader import ItemLoader\n",
    "from scrapy.loader.processors import MapCompose, Join\n",
    "from grand.grand.items import GrandItem\n",
    "import urllib.request, urllib.parse, urllib.error\n",
    "from collections import deque\n",
    "import numpy as np\n",
    "import string\n",
    "import time\n",
    "import random\n"
   ]
  },
  {
   "cell_type": "code",
   "execution_count": 127,
   "metadata": {},
   "outputs": [
    {
     "data": {
      "text/plain": [
       "<method 'strip' of 'str' objects>"
      ]
     },
     "execution_count": 127,
     "metadata": {},
     "output_type": "execute_result"
    }
   ],
   "source": [
    "str.strip"
   ]
  },
  {
   "cell_type": "markdown",
   "metadata": {},
   "source": [
    "### XPath is a language\n",
    "\n",
    "\n",
    "\n",
    "<h5>How to use commands in console</h5>\n",
    "<img src=\"x_console.png\" alt=\"Drawing\" style=\"width: 400px;\"/>\n",
    "\n",
    "\n",
    "* Using //p will select all the p elements and //a for all the links\n",
    "* To find all the links under div we'll use $x('//div//a')\n",
    "* You can also select just the text by using the text()\n",
    "* You can also select just the text by using the text()\n",
    "* There are tens of XPath functions like not(), contains(), and startswith() that you can find in the online documentation (http://www.w3schools.com/xsl/xpath_functions.asp),"
   ]
  },
  {
   "cell_type": "code",
   "execution_count": 90,
   "metadata": {},
   "outputs": [],
   "source": [
    "conv = '''accept: text/html,application/xhtml+xml,application/xml;q=0.9,image/webp,image/apng,*/*;q=0.8,application/signed-exchange;v=b3;q=0.9\n",
    "accept-encoding: gzip, deflate, br\n",
    "accept-language: en-US,en;q=0.9\n",
    "cache-control: max-age=0\n",
    "cookie: prov=6ee1b1c0-a975-57c1-b806-d6f02acdc078; _ga=GA1.2.1770530859.1579667732; __qca=P0-709205387-1579667731930; __gads=ID=7abeba23853bfab5:T=1579667732:S=ALNI_MZQpLsyZugJqQyXRBUJPOkgNjsDbw; sgt=id=57291405-92ae-4989-a741-f989cf2c6903; _gid=GA1.2.1065622312.1595226703; arp_scroll_position=136; acct=t=JE1j0YL6mlLl7%2bJDAZ0zaTJQ%2bUidPKXE&s=xcKiH08vYJFwXKLlol2HcBhRPB70gUZR\n",
    "dnt: 1\n",
    "referer: https://www.google.com/\n",
    "sec-fetch-dest: document\n",
    "sec-fetch-mode: navigate\n",
    "sec-fetch-site: cross-site\n",
    "sec-fetch-user: ?1\n",
    "upgrade-insecure-requests: 1\n",
    "user-agent: Mozilla/5.0 (Macintosh; Intel Mac OS X 10_15_5) AppleWebKit/537.36 (KHTML, like Gecko) Chrome/84.0.4147.89 Safari/537.36'''\n",
    "\n",
    "conv = conv.split('\\n')\n",
    "\n",
    "headers = dict()\n",
    "\n",
    "for i in range(len(conv)):\n",
    "    headers[conv[i].split(': ')[0]] = conv[i].split(': ')[1]\n",
    "\n",
    "del headers['accept-encoding']"
   ]
  },
  {
   "cell_type": "code",
   "execution_count": 91,
   "metadata": {},
   "outputs": [
    {
     "data": {
      "text/plain": [
       "{'accept': 'text/html,application/xhtml+xml,application/xml;q=0.9,image/webp,image/apng,*/*;q=0.8,application/signed-exchange;v=b3;q=0.9',\n",
       " 'accept-language': 'en-US,en;q=0.9',\n",
       " 'cache-control': 'max-age=0',\n",
       " 'cookie': 'prov=6ee1b1c0-a975-57c1-b806-d6f02acdc078; _ga=GA1.2.1770530859.1579667732; __qca=P0-709205387-1579667731930; __gads=ID=7abeba23853bfab5:T=1579667732:S=ALNI_MZQpLsyZugJqQyXRBUJPOkgNjsDbw; sgt=id=57291405-92ae-4989-a741-f989cf2c6903; _gid=GA1.2.1065622312.1595226703; arp_scroll_position=136; acct=t=JE1j0YL6mlLl7%2bJDAZ0zaTJQ%2bUidPKXE&s=xcKiH08vYJFwXKLlol2HcBhRPB70gUZR',\n",
       " 'dnt': '1',\n",
       " 'referer': 'https://www.google.com/',\n",
       " 'sec-fetch-dest': 'document',\n",
       " 'sec-fetch-mode': 'navigate',\n",
       " 'sec-fetch-site': 'cross-site',\n",
       " 'sec-fetch-user': '?1',\n",
       " 'upgrade-insecure-requests': '1',\n",
       " 'user-agent': 'Mozilla/5.0 (Macintosh; Intel Mac OS X 10_15_5) AppleWebKit/537.36 (KHTML, like Gecko) Chrome/84.0.4147.89 Safari/537.36'}"
      ]
     },
     "execution_count": 91,
     "metadata": {},
     "output_type": "execute_result"
    }
   ],
   "source": [
    "headers"
   ]
  },
  {
   "cell_type": "code",
   "execution_count": 413,
   "metadata": {},
   "outputs": [],
   "source": []
  },
  {
   "cell_type": "markdown",
   "metadata": {},
   "source": [
    "# Note visual tags can't be used with attribute tags\n",
    "XPath is practically used for locating XML nodes.\n",
    "\n",
    "General Syntax:\n",
    "\n",
    "xpath=//tag[@attribute='value']\n",
    "\n",
    "// : Select current node.\n",
    "\n",
    "tag: Tagname of the particular node. Also, \"*\" is for searching any tag in the xml structure\n",
    "\n",
    "@: Select attribute.\n",
    "\n",
    "attribute: Attribute name of the node.\n",
    "\n",
    "value: Value of the attribute."
   ]
  },
  {
   "cell_type": "markdown",
   "metadata": {},
   "source": [
    "### Starting with MagicBricks "
   ]
  },
  {
   "cell_type": "code",
   "execution_count": 114,
   "metadata": {},
   "outputs": [],
   "source": [
    "res = requests.get('https://www.magicbricks.com/propertyDetails/2-BHK-1030-Sq-ft-Multistorey-Apartment-FOR-Sale-Thanisandra-Main-Road-in-Bangalore&id=4d423231313036303433?sem=Y', headers=headers)\n",
    "\n",
    "# res = requests.get('https://madhubanmurli.org/#')#, headers = headers)\n",
    "response = TextResponse(res.url, body=res.text, encoding='utf-8')"
   ]
  },
  {
   "cell_type": "markdown",
   "metadata": {},
   "source": [
    "Another way of reading webpages\n",
    "\n",
    "req = urllib.request.Request('https://www.magicbricks.com/propertyDetails/2-BHK-1404-Sq-ft-Multistorey-Apartment-FOR-Sale-Electronic-City-Phase-2-in-Bangalore&id=4d423439383237313532', headers={'User-Agent': 'Chrome/84.0.4147.89'})\n",
    "response = urllib.request.urlopen(req).read()"
   ]
  },
  {
   "cell_type": "code",
   "execution_count": 134,
   "metadata": {},
   "outputs": [
    {
     "data": {
      "text/plain": [
       "['1030']"
      ]
     },
     "execution_count": 134,
     "metadata": {},
     "output_type": "execute_result"
    }
   ],
   "source": [
    "response.xpath('//*[@id=\"coveredAreaDisplay\"]//text()').extract()"
   ]
  },
  {
   "cell_type": "code",
   "execution_count": 181,
   "metadata": {},
   "outputs": [],
   "source": [
    "\n",
    "\n",
    "item = GrandItem()\n",
    "iloader = ItemLoader(item=GrandItem(), response=response)\n",
    "\n",
    "\n",
    "# self.log(\"developer: %s\" % response.xpath('((//*[@id=\"thirdFoldDisplay\"]//*[@target=\"_blank\"])//text())[1]').extract()[0].strip())\n",
    "# self.log(\"area: %s\" % response.xpath('//*[@id=\"coveredAreaDisplay\"]//text()').extract()[0] + ' sqft')\n",
    "# self.log(\"no_bedroom: %s\" % int(''.join(x.strip() for x in response.xpath('//*[@class=\"seeBedRoomDimen\"]//text()').extract())))\n",
    "# self.log(\"no_bathroom: %s\" % int(response.xpath('//div[contains(@class, \"p_infoColumn\") and contains(.//div, \"Bathrooms\")]/*[@class=\"p_value\"]/text()').extract()[0]))\n",
    "# self.log(\"status: %s\" % response.xpath('//div[contains(@class, \"p_infoColumn\") and contains(.//div, \"Status\")]/*[@class=\"p_value\"]/text()').extract()[0])\n",
    "# self.log(\"property_type: %s\" % response.xpath('//div[contains(@class, \"p_infoColumn\") and contains(.//div, \"Transaction type\")]/*[@class=\"p_value\"]/text()').extract()[0])\n",
    "# self.log(\"car_parking: %s\" % response.xpath('//div[contains(@class, \"p_infoColumn\") and contains(.//div, \"Car parking\")]/*[@class=\"p_value\"]/text()').extract()[0])\n",
    "# self.log(\"furnished_status: %s\" % response.xpath('//div[contains(@class, \"p_infoColumn\") and contains(.//div, \"Furnished status\")]/*[@class=\"p_value\"]/text()').extract()[0])\n",
    "\n",
    "\n",
    "iloader.add_xpath(\"developer\", '((//*[@id=\"thirdFoldDisplay\"]//*[@target=\"_blank\"])//text())[1]', MapCompose(str.strip))\n",
    "iloader.add_xpath(\"area\", '//*[@id=\"coveredAreaDisplay\"]//text()', MapCompose(lambda i: i + ' sqft'))\n",
    "iloader.add_xpath(\"no_bedroom\", '//*[@class=\"seeBedRoomDimen\"]//text()', lambda x: ''.join(i.strip() for i in x))\n",
    "iloader.add_xpath(\"no_bathroom\", '//div[contains(@class, \"p_infoColumn\") and contains(.//div, \"Bathrooms\")]/*[@class=\"p_value\"]/text()', MapCompose(int))\n",
    "iloader.add_xpath(\"status\", '//div[contains(@class, \"p_infoColumn\") and contains(.//div, \"Status\")]/*[@class=\"p_value\"]/text()')\n",
    "iloader.add_xpath(\"property_type\", '//div[contains(@class, \"p_infoColumn\") and contains(.//div, \"Transaction type\")]/*[@class=\"p_value\"]/text()')\n",
    "iloader.add_xpath(\"car_parking\", '//div[contains(@class, \"p_infoColumn\") and contains(.//div, \"Car parking\")]/*[@class=\"p_value\"]/text()')\n",
    "iloader.add_xpath(\"furnished_status\", '//div[contains(@class, \"p_infoColumn\") and contains(.//div, \"Furnished status\")]/*[@class=\"p_value\"]/text()')\n"
   ]
  },
  {
   "cell_type": "code",
   "execution_count": 182,
   "metadata": {},
   "outputs": [
    {
     "data": {
      "text/plain": [
       "{'area': ['1030 sqft'],\n",
       " 'car_parking': ['None'],\n",
       " 'developer': ['Sai Kalyan Builders & Developers Pvt. Ltd.'],\n",
       " 'furnished_status': ['Unfurnished'],\n",
       " 'no_bathroom': [2],\n",
       " 'no_bedroom': ['2'],\n",
       " 'property_type': ['New Property'],\n",
       " 'status': ['Ready to Move']}"
      ]
     },
     "execution_count": 182,
     "metadata": {},
     "output_type": "execute_result"
    }
   ],
   "source": [
    "iloader.load_item()"
   ]
  },
  {
   "cell_type": "markdown",
   "metadata": {},
   "source": [
    "#### response.xpath('//*[@id=\"thirdFoldDisplay\"]/div[1]/div[2]/span/a//text()')\n",
    "\n",
    "# That's how you nest elements for selecting nth instance of mth entity and combine regular expression\n",
    "' '.join(response.xpath('(//*[@id=\"thirdFoldDisplay\"]//*[@target=\"_blank\"])//text()').re('[\\.a-zA-Z]+'))"
   ]
  },
  {
   "cell_type": "code",
   "execution_count": 285,
   "metadata": {},
   "outputs": [],
   "source": [
    "# //div[div/@class='item_promo']/div[@class='item_price']\n",
    "# div[contains(@class, 'measure-tab') and contains(.//span, 'someText')]\n",
    "\n",
    "# response.xpath('//*[@class=\"p_infoColumn\"]/*[@class=\"p_value\"]').extract()\n"
   ]
  },
  {
   "cell_type": "code",
   "execution_count": 303,
   "metadata": {},
   "outputs": [],
   "source": [
    "# Name of Developer\n",
    "developer = response.xpath('((//*[@id=\"thirdFoldDisplay\"]//*[@target=\"_blank\"])//text())[1]').extract()[0].strip()\n",
    "\n",
    "# Size of Area\n",
    "area = response.xpath('//*[@id=\"coveredAreaDisplay\"]//text()').extract()[0] + ' sqft'\n",
    "\n",
    "# Total number of bedrooms\n",
    "no_bedroom = int(''.join(x.strip() for x in response.xpath('//*[@class=\"seeBedRoomDimen\"]//text()').extract()))\n",
    "# or use this XPath ''.join(x.strip() for x in response.xpath('//div[contains(@class, \"p_infoColumn\") and contains(.//div, \"Bedrooms\")]//*[@class=\"seeBedRoomDimen\"]/text()').extract())\n",
    "\n",
    "# Total number of bathrooms\n",
    "no_bathroom = int(response.xpath('//div[contains(@class, \"p_infoColumn\") and contains(.//div, \"Bathrooms\")]/*[@class=\"p_value\"]/text()').extract()[0])\n",
    "\n",
    "# Status of property\n",
    "status = response.xpath('//div[contains(@class, \"p_infoColumn\") and contains(.//div, \"Status\")]/*[@class=\"p_value\"]/text()').extract()[0]\n",
    "\n",
    "# Type of Property\n",
    "property_type = response.xpath('//div[contains(@class, \"p_infoColumn\") and contains(.//div, \"Transaction type\")]/*[@class=\"p_value\"]/text()').extract()[0]\n",
    "\n",
    "# If Car Parking Present\n",
    "car_parking = response.xpath('//div[contains(@class, \"p_infoColumn\") and contains(.//div, \"Car parking\")]/*[@class=\"p_value\"]/text()').extract()[0]\n",
    "\n",
    "# If apartment is unfurnished\n",
    "furnished_status = response.xpath('//div[contains(@class, \"p_infoColumn\") and contains(.//div, \"Furnished status\")]/*[@class=\"p_value\"]/text()').extract()[0]"
   ]
  },
  {
   "cell_type": "markdown",
   "metadata": {},
   "source": [
    "You make a new project by typing \"scrappy startproject properties\""
   ]
  },
  {
   "cell_type": "code",
   "execution_count": 305,
   "metadata": {},
   "outputs": [],
   "source": [
    "res = requests.get('https://www.magicbricks.com/propertyDetails/2-BHK-1404-Sq-ft-Multistorey-Apartment-FOR-Sale-Electronic-City-Phase-2-in-Bangalore&id=4d423439383237313532', headers=headers)\n",
    "\n",
    "# res = requests.get('https://madhubanmurli.org/#')#, headers = headers)\n",
    "response = TextResponse(res.url, body=res.text, encoding='utf-8')"
   ]
  },
  {
   "cell_type": "code",
   "execution_count": 306,
   "metadata": {},
   "outputs": [
    {
     "data": {
      "text/plain": [
       "''"
      ]
     },
     "execution_count": 306,
     "metadata": {},
     "output_type": "execute_result"
    }
   ],
   "source": [
    "# response.xpath('//*[@id=\"thirdFoldDisplay\"]/div[1]/div[2]/span/a//text()')\n",
    "\n",
    "# That's how you nest elements for selecting nth instance of mth entity and combine regular expression\n",
    "' '.join(response.xpath('(//*[@id=\"thirdFoldDisplay\"]//*[@target=\"_blank\"])//text()').re('[\\.a-zA-Z]+'))"
   ]
  },
  {
   "cell_type": "code",
   "execution_count": 285,
   "metadata": {},
   "outputs": [],
   "source": [
    "# //div[div/@class='item_promo']/div[@class='item_price']\n",
    "# div[contains(@class, 'measure-tab') and contains(.//span, 'someText')]\n",
    "\n",
    "# response.xpath('//*[@class=\"p_infoColumn\"]/*[@class=\"p_value\"]').extract()\n"
   ]
  },
  {
   "cell_type": "code",
   "execution_count": 315,
   "metadata": {},
   "outputs": [],
   "source": [
    "# Name of Developer\n",
    "# developer = response.xpath('((//*[@id=\"thirdFoldDisplay\"]//*[@target=\"_blank\"])//text())[1]').extract()[0].strip()\n",
    "\n",
    "# Size of Area\n",
    "area = response.xpath('//*[@id=\"coveredAreaDisplay\"]//text()').extract()[0] + ' sqft'\n",
    "\n",
    "# Total number of bedrooms\n",
    "# no_bedroom = int(''.join(x.strip() for x in response.xpath('//*[@class=\"seeBedRoomDimen\"]//text()').extract()))\n",
    "# or use this XPath ''.join(x.strip() for x in response.xpath('//div[contains(@class, \"p_infoColumn\") and contains(.//div, \"Bedrooms\")]//*[@class=\"seeBedRoomDimen\"]/text()').extract())\n",
    "\n",
    "# Total number of bathrooms\n",
    "no_bathroom = int(response.xpath('//div[contains(@class, \"p_infoColumn\") and contains(.//div, \"Bathrooms\")]/*[@class=\"p_value\"]/text()').extract()[0])\n",
    "\n",
    "# # Status of property\n",
    "# status = response.xpath('//div[contains(@class, \"p_infoColumn\") and contains(.//div, \"Status\")]/*[@class=\"p_value\"]/text()').extract()[0]\n",
    "\n",
    "# # Type of Property\n",
    "# property_type = response.xpath('//div[contains(@class, \"p_infoColumn\") and contains(.//div, \"Transaction type\")]/*[@class=\"p_value\"]/text()').extract()[0]\n",
    "\n",
    "# If Car Parking Present\n",
    "car_parking = response.xpath('//div[contains(@class, \"p_infoColumn\") and contains(.//div, \"Car parking\")]/*[@class=\"p_value\"]/text()').extract()[0]\n",
    "\n",
    "# If apartment is unfurnished\n",
    "furnished_status = response.xpath('//div[contains(@class, \"p_infoColumn\") and contains(.//div, \"Furnished status\")]/*[@class=\"p_value\"]/text()').extract()[0]"
   ]
  },
  {
   "cell_type": "code",
   "execution_count": 317,
   "metadata": {},
   "outputs": [
    {
     "data": {
      "text/plain": [
       "'Semi-Furnished'"
      ]
     },
     "execution_count": 317,
     "metadata": {},
     "output_type": "execute_result"
    }
   ],
   "source": [
    "furnished_status"
   ]
  },
  {
   "cell_type": "markdown",
   "metadata": {},
   "source": [
    "### Starting on IndiaMART"
   ]
  },
  {
   "cell_type": "code",
   "execution_count": 419,
   "metadata": {},
   "outputs": [],
   "source": [
    "res = requests.get('https://dir.indiamart.com/search.mp?ss=disposable+face+mask&src=as-popular%3Akwd%3Dfacemask%3Apos%3D2%3Acat%3D-2%3Amcat%3D-2&cq=patna', headers=headers)\n",
    "\n",
    "# res = requests.get('https://madhubanmurli.org/#')#, headers = headers)\n",
    "response = TextResponse(res.url, body=res.text, encoding='utf-8')"
   ]
  },
  {
   "cell_type": "code",
   "execution_count": 442,
   "metadata": {},
   "outputs": [
    {
     "data": {
      "text/plain": [
       "['https://www.indiamart.com/proddetail/disposable-masks-20784584255.html',\n",
       " 'https://www.indiamart.com/proddetail/three-layer-surgical-mask-22276389012.html',\n",
       " 'https://www.indiamart.com/proddetail/disposable-face-mask-22259998088.html',\n",
       " 'https://www.indiamart.com/proddetail/disposable-face-mask-22268474355.html',\n",
       " 'https://www.indiamart.com/proddetail/disposable-face-mask-22289554988.html',\n",
       " 'https://www.indiamart.com/proddetail/disposable-face-mask-22176765730.html',\n",
       " 'https://www.indiamart.com/meghdootschooldresses/surgical-gloves-masks.html#reusable-hospital-face-mask-number-of-layers-1',\n",
       " 'https://www.indiamart.com/proddetail/3-ply-disposable-face-mask-22396328288.html',\n",
       " 'https://www.indiamart.com/proddetail/n95-face-mask-22300335348.html',\n",
       " 'https://www.indiamart.com/proddetail/n95-face-mask-22318462655.html',\n",
       " 'https://www.indiamart.com/proddetail/kn95-face-mask-22298106062.html',\n",
       " 'https://www.indiamart.com/flytenfashionbrands/surgical-masks-3ply.html#3-ply-surgical-masks',\n",
       " 'https://www.indiamart.com/artificer-technologies/disposable-face-mask.html#ear-loop-mount-pp-non-woven-3-ply-surgical-mask',\n",
       " 'https://www.indiamart.com/proddetail/surgical-3-ply-face-mask-22286986112.html',\n",
       " 'https://www.indiamart.com/proddetail/disposable-face-mask-20333539588.html']"
      ]
     },
     "execution_count": 442,
     "metadata": {},
     "output_type": "execute_result"
    }
   ],
   "source": [
    "response.xpath('//*[@class=\"lg elps\"]//@href').extract()"
   ]
  },
  {
   "cell_type": "code",
   "execution_count": 441,
   "metadata": {},
   "outputs": [
    {
     "data": {
      "text/plain": [
       "[\"Non-Woven Disposable Masks, For Hospitals, Model Name/Number: Premium's\",\n",
       " 'Ear Loop Mount Three Layer Surgical Mask',\n",
       " 'Disposable Face Mask, Number of Layers: 3',\n",
       " 'Ear Loop Mount PP Non Woven Disposable Face Mask',\n",
       " 'Ear loop Disposable Face Mask',\n",
       " 'General Purpose Ear Loop Disposable Face Mask',\n",
       " 'Reusable hospital face mask, Number of Layers: 1',\n",
       " '3 Ply Disposable Face Mask',\n",
       " 'Ear loop Disposable N95 FACE MASK',\n",
       " 'Reusable N95 Face Mask',\n",
       " 'Indian Kn95 Face Mask, Number of Layers: H',\n",
       " '3 Ply Surgical Masks',\n",
       " 'Ear Loop Mount PP Non Woven 3 Ply Surgical Mask',\n",
       " 'Disposable Surgical 3 Ply Face Mask',\n",
       " 'Non Woven Disposable Face Mask, For Hospital, Clinic, 2']"
      ]
     },
     "execution_count": 441,
     "metadata": {},
     "output_type": "execute_result"
    }
   ],
   "source": [
    "response.xpath('//*[@class=\"lg elps\"]//text()').extract()"
   ]
  },
  {
   "cell_type": "markdown",
   "metadata": {},
   "source": [
    "### Starting with Amazon"
   ]
  },
  {
   "cell_type": "markdown",
   "metadata": {},
   "source": [
    "proxies = {\n",
    "    \"http\": 'http://109.50.52.142:80', \n",
    "    \"https\": 'http://109.50.52.142:80'\n",
    "}\n"
   ]
  },
  {
   "cell_type": "code",
   "execution_count": 199,
   "metadata": {},
   "outputs": [],
   "source": [
    "res = requests.get('https://www.amazon.in/s?k=bicycle&ref=nb_sb_noss', headers=headers)#, proxies=proxies)\n",
    "\n",
    "# res = requests.get('https://madhubanmurli.org/#')#, headers = headers)\n",
    "response = TextResponse(res.url, body=res.text, encoding='utf-8')"
   ]
  },
  {
   "cell_type": "code",
   "execution_count": 202,
   "metadata": {},
   "outputs": [],
   "source": [
    "res = requests.get('https://www.amazon.in/Hero-Kyoto-Single-Speed-Cycle/dp/B073QW5F63/ref=sr_1_1?dchild=1&keywords=bicycle&qid=1595670387&sr=8-1', headers=headers)#, proxies=proxies)\n",
    "\n",
    "# res = requests.get('https://madhubanmurli.org/#')#, headers = headers)\n",
    "response = TextResponse(res.url, body=res.text, encoding='utf-8')"
   ]
  },
  {
   "cell_type": "code",
   "execution_count": 225,
   "metadata": {},
   "outputs": [],
   "source": [
    "title = response.xpath('//span[@id=\"productTitle\"]/text()').extract()[0].strip()\n",
    "\n",
    "no_ratings = response.xpath('//span[@id=\"acrCustomerReviewText\"]//text()').extract()[0]\n",
    "\n",
    "rating = response.xpath('//span[@data-hook=\"rating-out-of-text\"]//text()').extract()[0]\n",
    "\n",
    "price = response.xpath('//span[@id=\"priceblock_dealprice\"]//text()').extract()[0].strip().replace(u'\\xa0', u' ')"
   ]
  },
  {
   "cell_type": "code",
   "execution_count": null,
   "metadata": {},
   "outputs": [],
   "source": [
    "<span id=\"priceblock_dealprice\" class=\"a-size-medium a-color-price priceBlockDealPriceString\">₹&nbsp;4,799.00</span>"
   ]
  },
  {
   "cell_type": "markdown",
   "metadata": {},
   "source": [
    "[urllib.parse.urljoin(response.url, i) for i in response.xpath('//a[@class=\"a-link-normal a-text-normal\"]/@href').extract()]"
   ]
  },
  {
   "cell_type": "code",
   "execution_count": null,
   "metadata": {},
   "outputs": [],
   "source": [
    "<a class=\"a-link-normal a-text-normal\" target=\"_blank\" href=\"/Hero-Kyoto-Single-Speed-Cycle/dp/B073QW5F63/ref=sr_1_1?dchild=1&amp;keywords=bicycle&amp;qid=1595664869&amp;sr=8-1\">\n",
    "    \n",
    "        \n",
    "            \n",
    "                <span class=\"a-size-base-plus a-color-base a-text-normal\" dir=\"auto\">Hero  Kyoto 26T Single Speed  Mountain Bike (Black, Ideal For : 12+ Years )</span>\n",
    "            \n",
    "        \n",
    "        \n",
    "    \n",
    "</a>"
   ]
  },
  {
   "cell_type": "code",
   "execution_count": 459,
   "metadata": {},
   "outputs": [],
   "source": [
    "from scrapy.http import Request"
   ]
  },
  {
   "cell_type": "code",
   "execution_count": 191,
   "metadata": {},
   "outputs": [
    {
     "data": {
      "text/plain": [
       "{'accept': 'text/html,application/xhtml+xml,application/xml;q=0.9,image/webp,image/apng,*/*;q=0.8,application/signed-exchange;v=b3;q=0.9',\n",
       " 'accept-language': 'en-US,en;q=0.9',\n",
       " 'cache-control': 'max-age=0',\n",
       " 'cookie': 'prov=6ee1b1c0-a975-57c1-b806-d6f02acdc078; _ga=GA1.2.1770530859.1579667732; __qca=P0-709205387-1579667731930; __gads=ID=7abeba23853bfab5:T=1579667732:S=ALNI_MZQpLsyZugJqQyXRBUJPOkgNjsDbw; sgt=id=57291405-92ae-4989-a741-f989cf2c6903; _gid=GA1.2.1065622312.1595226703; arp_scroll_position=136; acct=t=JE1j0YL6mlLl7%2bJDAZ0zaTJQ%2bUidPKXE&s=xcKiH08vYJFwXKLlol2HcBhRPB70gUZR',\n",
       " 'dnt': '1',\n",
       " 'referer': 'https://www.google.com/',\n",
       " 'sec-fetch-dest': 'document',\n",
       " 'sec-fetch-mode': 'navigate',\n",
       " 'sec-fetch-site': 'cross-site',\n",
       " 'sec-fetch-user': '?1',\n",
       " 'upgrade-insecure-requests': '1',\n",
       " 'user-agent': 'Mozilla/5.0 (Macintosh; Intel Mac OS X 10_15_5) AppleWebKit/537.36 (KHTML, like Gecko) Chrome/84.0.4147.89 Safari/537.36'}"
      ]
     },
     "execution_count": 191,
     "metadata": {},
     "output_type": "execute_result"
    }
   ],
   "source": [
    "headers"
   ]
  },
  {
   "cell_type": "code",
   "execution_count": 101,
   "metadata": {},
   "outputs": [
    {
     "name": "stdout",
     "output_type": "stream",
     "text": [
      "Currently scraping:  https://www.amazon.com/s?k=radio&ref=nb_sb_noss\n",
      "Currently scraping:  https://www.amazon.com/s?k=radio&page=2&qid=1595587073&ref=sr_pg_2\n",
      "Currently scraping:  https://www.amazon.com/s?k=radio&page=3&qid=1595587073&ref=sr_pg_3\n",
      "Currently scraping:  https://www.amazon.com/s?k=radio&qid=1595587076&ref=sr_pg_1\n",
      "Currently scraping:  https://www.amazon.com/s?k=radio&page=4&qid=1595587080&ref=sr_pg_4\n",
      "Currently scraping:  https://www.amazon.com/s?k=radio&page=5&qid=1595587087&ref=sr_pg_5\n",
      "Currently scraping:  https://www.amazon.com/s?k=radio&page=6&qid=1595587091&ref=sr_pg_6\n",
      "Currently scraping:  https://www.amazon.com/s?k=radio&page=7&qid=1595587095&ref=sr_pg_7\n",
      "Currently scraping:  https://www.amazon.com/s?k=radio&page=8&qid=1595587097&ref=sr_pg_8\n",
      "Currently scraping:  https://www.amazon.com/s?k=radio&page=9&qid=1595587100&ref=sr_pg_9\n",
      "Currently scraping:  https://www.amazon.com/s?k=radio&page=10&qid=1595587102&ref=sr_pg_10\n",
      "Currently scraping:  https://www.amazon.com/s?k=radio&page=11&qid=1595587105&ref=sr_pg_11\n",
      "Currently scraping:  https://www.amazon.com/s?k=radio&page=12&qid=1595587108&ref=sr_pg_12\n",
      "Currently scraping:  https://www.amazon.com/s?k=radio&page=13&qid=1595587111&ref=sr_pg_13\n",
      "Currently scraping:  https://www.amazon.com/s?k=radio&page=14&qid=1595587112&ref=sr_pg_14\n",
      "Currently scraping:  https://www.amazon.com/s?k=radio&page=15&qid=1595587115&ref=sr_pg_15\n",
      "Currently scraping:  https://www.amazon.com/s?k=radio&page=16&qid=1595587118&ref=sr_pg_16\n",
      "Currently scraping:  https://www.amazon.com/s?k=radio&page=17&qid=1595587120&ref=sr_pg_17\n",
      "Currently scraping:  https://www.amazon.com/s?k=radio&page=18&qid=1595587124&ref=sr_pg_18\n",
      "Currently scraping:  https://www.amazon.com/s?k=radio&page=19&qid=1595587124&ref=sr_pg_19\n",
      "Currently scraping:  https://www.amazon.com/s?k=radio&page=20&qid=1595587124&ref=sr_pg_20\n",
      "Queue is Empty!\n",
      "\n",
      "\n",
      "These are lists of visited pages\n",
      "ref=nb_sb_noss\n",
      "ref=sr_pg_2\n",
      "ref=sr_pg_3\n",
      "ref=sr_pg_1\n",
      "ref=sr_pg_4\n",
      "ref=sr_pg_5\n",
      "ref=sr_pg_6\n",
      "ref=sr_pg_7\n",
      "ref=sr_pg_8\n",
      "ref=sr_pg_9\n",
      "ref=sr_pg_10\n",
      "ref=sr_pg_11\n",
      "ref=sr_pg_12\n",
      "ref=sr_pg_13\n",
      "ref=sr_pg_14\n",
      "ref=sr_pg_15\n",
      "ref=sr_pg_16\n",
      "ref=sr_pg_17\n",
      "ref=sr_pg_18\n",
      "ref=sr_pg_19\n",
      "ref=sr_pg_20\n"
     ]
    }
   ],
   "source": [
    "# Read URL from command line\n",
    "# url = 'https://www.amazon.in/s?k=bicycle&ref=nb_sb_noss'\n",
    "url = 'https://www.amazon.com/s?k=radio&ref=nb_sb_noss'\n",
    "\n",
    "# Create queue\n",
    "queue = deque([])\n",
    "\n",
    "# Maintains list of visited pages\n",
    "visited_list = []\n",
    "websites = []\n",
    "\n",
    "start = True\n",
    "count = 2\n",
    "\n",
    "# Crawl the page and populate the queue with newly found URLs\n",
    "def crawl(url):    \n",
    "    global visited_list\n",
    "    \n",
    "    time.sleep(random.uniform(0, 4))\n",
    "    \n",
    "#     print(\"About to append: \",type(url), url[-13], url.split('&'), url.split(';')[-1])\n",
    "    if url.split('&')[-1] in visited_list:\n",
    "        return\n",
    "    else:\n",
    "        visited_list.append(url.split('&')[-1])\n",
    "        websites.append(url)\n",
    "        \n",
    "    if len(queue) > 99:\n",
    "        return\n",
    "    \n",
    "    print(\"Currently scraping: \", url)\n",
    "#     print(\"Current queue is: \", queue)\n",
    "    res = requests.get(url, headers=headers)\n",
    "    response = TextResponse(res.url, body=res.text, encoding='utf-8')\n",
    "\n",
    "    new = response.xpath('//*[@class=\"a-normal\"]//@href').extract()\n",
    "    urls = [urllib.parse.urljoin(response.url, new[i]) for i in range(len(new))]\n",
    "\n",
    "    for i in urls:\n",
    "        flag = 0\n",
    "        # Complete relative URLs and strip trailing slash\n",
    "        complete_url = i.rstrip('/')\n",
    "\n",
    "        # Check if the URL already exists in the queue\n",
    "        for j in queue:\n",
    "            if j == complete_url.split(';')[-1]:\n",
    "                flag = 1\n",
    "                break\n",
    "\n",
    "        # If not found in queue\n",
    "#         print(visited_list)\n",
    "        if flag == 0:\n",
    "            if len(queue) > 99:\n",
    "                return\n",
    "            if (visited_list.count(complete_url.split('&')[-1])) == 0:\n",
    "                queue.append(complete_url)\n",
    "\n",
    "    # Pop one URL from the queue from the left side so that it can be crawled\n",
    "    current = queue.popleft()\n",
    "\n",
    "    while True:\n",
    "        try:\n",
    "            if current.split('&')[-1] in visited_list:\n",
    "                current = queue.popleft()\n",
    "            else:\n",
    "                break\n",
    "        except:\n",
    "            print(\"Queue is Empty!\")\n",
    "            return\n",
    "        # Recursive call to crawl until the queue is populated with 100 URLs\n",
    "    crawl(current)\n",
    "\n",
    "crawl(url)\n",
    "\n",
    "\n",
    "# Print queue\n",
    "# print(\"\\n\\nThis is queue!\")\n",
    "# for i in queue:\n",
    "#     print(i)\n",
    "\n",
    "# Print list of visited pages\n",
    "# print(\"\\n\\nThese are lists of visited pages\")\n",
    "# for i in visited_list:\n",
    "#     print(i)"
   ]
  },
  {
   "cell_type": "code",
   "execution_count": 102,
   "metadata": {},
   "outputs": [
    {
     "data": {
      "text/plain": [
       "['https://www.amazon.com/s?k=radio&ref=nb_sb_noss',\n",
       " 'https://www.amazon.com/s?k=radio&page=2&qid=1595587073&ref=sr_pg_2',\n",
       " 'https://www.amazon.com/s?k=radio&page=3&qid=1595587073&ref=sr_pg_3',\n",
       " 'https://www.amazon.com/s?k=radio&qid=1595587076&ref=sr_pg_1',\n",
       " 'https://www.amazon.com/s?k=radio&page=4&qid=1595587080&ref=sr_pg_4',\n",
       " 'https://www.amazon.com/s?k=radio&page=5&qid=1595587087&ref=sr_pg_5',\n",
       " 'https://www.amazon.com/s?k=radio&page=6&qid=1595587091&ref=sr_pg_6',\n",
       " 'https://www.amazon.com/s?k=radio&page=7&qid=1595587095&ref=sr_pg_7',\n",
       " 'https://www.amazon.com/s?k=radio&page=8&qid=1595587097&ref=sr_pg_8',\n",
       " 'https://www.amazon.com/s?k=radio&page=9&qid=1595587100&ref=sr_pg_9',\n",
       " 'https://www.amazon.com/s?k=radio&page=10&qid=1595587102&ref=sr_pg_10',\n",
       " 'https://www.amazon.com/s?k=radio&page=11&qid=1595587105&ref=sr_pg_11',\n",
       " 'https://www.amazon.com/s?k=radio&page=12&qid=1595587108&ref=sr_pg_12',\n",
       " 'https://www.amazon.com/s?k=radio&page=13&qid=1595587111&ref=sr_pg_13',\n",
       " 'https://www.amazon.com/s?k=radio&page=14&qid=1595587112&ref=sr_pg_14',\n",
       " 'https://www.amazon.com/s?k=radio&page=15&qid=1595587115&ref=sr_pg_15',\n",
       " 'https://www.amazon.com/s?k=radio&page=16&qid=1595587118&ref=sr_pg_16',\n",
       " 'https://www.amazon.com/s?k=radio&page=17&qid=1595587120&ref=sr_pg_17',\n",
       " 'https://www.amazon.com/s?k=radio&page=18&qid=1595587124&ref=sr_pg_18',\n",
       " 'https://www.amazon.com/s?k=radio&page=19&qid=1595587124&ref=sr_pg_19',\n",
       " 'https://www.amazon.com/s?k=radio&page=20&qid=1595587124&ref=sr_pg_20']"
      ]
     },
     "execution_count": 102,
     "metadata": {},
     "output_type": "execute_result"
    }
   ],
   "source": [
    "websites"
   ]
  },
  {
   "cell_type": "markdown",
   "metadata": {},
   "source": [
    "### Coming back to GUMTREE"
   ]
  },
  {
   "cell_type": "code",
   "execution_count": 87,
   "metadata": {},
   "outputs": [],
   "source": [
    "from scrapy.http import Request"
   ]
  },
  {
   "cell_type": "code",
   "execution_count": 106,
   "metadata": {},
   "outputs": [],
   "source": [
    "url = 'https://www.gumtree.com/property-to-rent/uk/studio/page7'\n",
    "\n",
    "res = requests.get(url, headers=headers)\n",
    "response = TextResponse(res.url, body=res.text, encoding='utf-8')"
   ]
  },
  {
   "cell_type": "code",
   "execution_count": 108,
   "metadata": {},
   "outputs": [
    {
     "data": {
      "text/plain": [
       "[]"
      ]
     },
     "execution_count": 108,
     "metadata": {},
     "output_type": "execute_result"
    }
   ],
   "source": [
    "response.xpath('//a')"
   ]
  },
  {
   "cell_type": "code",
   "execution_count": 109,
   "metadata": {},
   "outputs": [
    {
     "name": "stdout",
     "output_type": "stream",
     "text": [
      "Currently scraping:  https://www.gumtree.com/property-to-rent/uk/studio\n"
     ]
    },
    {
     "ename": "IndexError",
     "evalue": "pop from an empty deque",
     "output_type": "error",
     "traceback": [
      "\u001b[0;31m---------------------------------------------------------------------------\u001b[0m",
      "\u001b[0;31mIndexError\u001b[0m                                Traceback (most recent call last)",
      "\u001b[0;32m<ipython-input-109-ce1237bbd63f>\u001b[0m in \u001b[0;36m<module>\u001b[0;34m\u001b[0m\n\u001b[1;32m     72\u001b[0m     \u001b[0mcrawl\u001b[0m\u001b[0;34m(\u001b[0m\u001b[0mcurrent\u001b[0m\u001b[0;34m)\u001b[0m\u001b[0;34m\u001b[0m\u001b[0;34m\u001b[0m\u001b[0m\n\u001b[1;32m     73\u001b[0m \u001b[0;34m\u001b[0m\u001b[0m\n\u001b[0;32m---> 74\u001b[0;31m \u001b[0mcrawl\u001b[0m\u001b[0;34m(\u001b[0m\u001b[0murl\u001b[0m\u001b[0;34m)\u001b[0m\u001b[0;34m\u001b[0m\u001b[0;34m\u001b[0m\u001b[0m\n\u001b[0m\u001b[1;32m     75\u001b[0m \u001b[0;34m\u001b[0m\u001b[0m\n\u001b[1;32m     76\u001b[0m \u001b[0;34m\u001b[0m\u001b[0m\n",
      "\u001b[0;32m<ipython-input-109-ce1237bbd63f>\u001b[0m in \u001b[0;36mcrawl\u001b[0;34m(url)\u001b[0m\n\u001b[1;32m     58\u001b[0m \u001b[0;31m#     except:\u001b[0m\u001b[0;34m\u001b[0m\u001b[0;34m\u001b[0m\u001b[0;34m\u001b[0m\u001b[0m\n\u001b[1;32m     59\u001b[0m \u001b[0;31m#         pass\u001b[0m\u001b[0;34m\u001b[0m\u001b[0;34m\u001b[0m\u001b[0;34m\u001b[0m\u001b[0m\n\u001b[0;32m---> 60\u001b[0;31m     \u001b[0mcurrent\u001b[0m \u001b[0;34m=\u001b[0m \u001b[0mqueue\u001b[0m\u001b[0;34m.\u001b[0m\u001b[0mpopleft\u001b[0m\u001b[0;34m(\u001b[0m\u001b[0;34m)\u001b[0m\u001b[0;34m\u001b[0m\u001b[0;34m\u001b[0m\u001b[0m\n\u001b[0m\u001b[1;32m     61\u001b[0m \u001b[0;34m\u001b[0m\u001b[0m\n\u001b[1;32m     62\u001b[0m     \u001b[0;32mwhile\u001b[0m \u001b[0;32mTrue\u001b[0m\u001b[0;34m:\u001b[0m\u001b[0;34m\u001b[0m\u001b[0;34m\u001b[0m\u001b[0m\n",
      "\u001b[0;31mIndexError\u001b[0m: pop from an empty deque"
     ]
    }
   ],
   "source": [
    "# Read URL from command line\n",
    "# url = 'https://www.amazon.in/s?k=bicycle&ref=nb_sb_noss'\n",
    "url = 'https://www.gumtree.com/property-to-rent/uk/studio'\n",
    "websites = []\n",
    "\n",
    "# Create queue\n",
    "queue = deque([])\n",
    "\n",
    "# Maintains list of visited pages\n",
    "visited_list = []\n",
    "\n",
    "# Crawl the page and populate the queue with newly found URLs\n",
    "def crawl(url):    \n",
    "    global visited_list, websites\n",
    "    \n",
    "    time.sleep(random.uniform(0, 5))\n",
    "    \n",
    "#     print(\"About to append: \",type(url), url[-13], url.split('&'), url.split(';')[-1])\n",
    "    if url.split('&')[-1] in visited_list:\n",
    "        return\n",
    "    else:\n",
    "        visited_list.append(url.split('&')[-1])\n",
    "        websites.append(url)\n",
    "        \n",
    "    if len(queue) > 99:\n",
    "        return\n",
    "    \n",
    "    print(\"Currently scraping: \", url)\n",
    "#     print(\"Current queue is: \", queue)\n",
    "    res = requests.get(url, headers=headers)\n",
    "    response = TextResponse(res.url, body=res.text, encoding='utf-8')\n",
    "\n",
    "    new = response.xpath('//*[@data-analytics=\"gaEvent:PaginationPage\"]/@href').extract()\n",
    "    urls = [urllib.parse.urljoin(response.url, new[i]) for i in range(len(new))]\n",
    "\n",
    "    for i in urls:\n",
    "        flag = 0\n",
    "        # Complete relative URLs and strip trailing slash\n",
    "        complete_url = i.rstrip('/')\n",
    "\n",
    "        # Check if the URL already exists in the queue\n",
    "        for j in queue:\n",
    "            if j == complete_url.split(';')[-1]:\n",
    "                flag = 1\n",
    "                break\n",
    "\n",
    "        # If not found in queue\n",
    "#         print(visited_list)\n",
    "        if flag == 0:\n",
    "            if len(queue) > 99:\n",
    "                return\n",
    "            if (visited_list.count(complete_url.split('&')[-1])) == 0:\n",
    "                queue.append(complete_url)\n",
    "\n",
    "    # Pop one URL from the queue from the left side so that it can be crawled\n",
    "#     try:\n",
    "#         current = queue.popleft()\n",
    "#     except:\n",
    "#         pass\n",
    "    current = queue.popleft()\n",
    "\n",
    "    while True:\n",
    "        try:\n",
    "            if current.split('&')[-1] in visited_list:\n",
    "                current = queue.popleft()\n",
    "            else:\n",
    "                break\n",
    "        except:\n",
    "            print(\"Queue is Empty!\")\n",
    "            return\n",
    "        # Recursive call to crawl until the queue is populated with 100 URLs\n",
    "    crawl(current)\n",
    "\n",
    "crawl(url)\n",
    "\n",
    "\n",
    "# Print queue\n",
    "# print(\"\\n\\nThis is queue!\")\n",
    "# for i in queue:\n",
    "#     print(i)\n",
    "\n",
    "# Print list of visited pages\n",
    "print(\"\\n\\nThese are lists of visited pages\")\n",
    "for i in visited_list:\n",
    "    print(i)"
   ]
  },
  {
   "cell_type": "code",
   "execution_count": 99,
   "metadata": {},
   "outputs": [
    {
     "data": {
      "text/plain": [
       "['ref=nb_sb_noss',\n",
       " 'ref=sr_pg_2',\n",
       " 'ref=sr_pg_3',\n",
       " 'ref=sr_pg_1',\n",
       " 'ref=sr_pg_4',\n",
       " 'ref=sr_pg_5',\n",
       " 'ref=sr_pg_6',\n",
       " 'ref=sr_pg_7',\n",
       " 'ref=sr_pg_8',\n",
       " 'ref=sr_pg_9',\n",
       " 'ref=sr_pg_10',\n",
       " 'ref=sr_pg_11',\n",
       " 'ref=sr_pg_12',\n",
       " 'ref=sr_pg_13',\n",
       " 'ref=sr_pg_14',\n",
       " 'ref=sr_pg_15',\n",
       " 'ref=sr_pg_16',\n",
       " 'ref=sr_pg_17',\n",
       " 'ref=sr_pg_18',\n",
       " 'ref=sr_pg_19',\n",
       " 'ref=sr_pg_20']"
      ]
     },
     "execution_count": 99,
     "metadata": {},
     "output_type": "execute_result"
    }
   ],
   "source": [
    "visited_list"
   ]
  },
  {
   "cell_type": "code",
   "execution_count": null,
   "metadata": {},
   "outputs": [],
   "source": []
  }
 ],
 "metadata": {
  "kernelspec": {
   "display_name": "Python 3",
   "language": "python",
   "name": "python3"
  },
  "language_info": {
   "codemirror_mode": {
    "name": "ipython",
    "version": 3
   },
   "file_extension": ".py",
   "mimetype": "text/x-python",
   "name": "python",
   "nbconvert_exporter": "python",
   "pygments_lexer": "ipython3",
   "version": "3.7.7"
  }
 },
 "nbformat": 4,
 "nbformat_minor": 4
}
